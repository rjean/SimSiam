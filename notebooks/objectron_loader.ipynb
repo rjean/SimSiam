{
 "cells": [
  {
   "cell_type": "code",
   "execution_count": 1,
   "metadata": {},
   "outputs": [],
   "source": [
    "import glob"
   ]
  },
  {
   "cell_type": "code",
   "execution_count": 2,
   "metadata": {},
   "outputs": [
    {
     "data": {
      "text/plain": [
       "['train', 'test', 'valid']"
      ]
     },
     "execution_count": 2,
     "metadata": {},
     "output_type": "execute_result"
    }
   ],
   "source": [
    "splits = glob.glob(\"../datasets/objectron_96x96/*/\")\n",
    "splits = [x.split(\"/\")[-2] for x in splits]\n",
    "splits"
   ]
  },
  {
   "cell_type": "code",
   "execution_count": 3,
   "metadata": {},
   "outputs": [
    {
     "data": {
      "text/plain": [
       "['shoe',\n",
       " 'bike',\n",
       " 'cup',\n",
       " 'book',\n",
       " 'cereal_box',\n",
       " 'chair',\n",
       " 'bottle',\n",
       " 'camera',\n",
       " 'laptop']"
      ]
     },
     "execution_count": 3,
     "metadata": {},
     "output_type": "execute_result"
    }
   ],
   "source": [
    "split = splits[0]\n",
    "categories = glob.glob(f\"../datasets/objectron_96x96/{split}/*/\")\n",
    "categories = [x.split(\"/\")[-2] for x in categories]\n",
    "categories"
   ]
  },
  {
   "cell_type": "code",
   "execution_count": 4,
   "metadata": {},
   "outputs": [
    {
     "data": {
      "text/plain": [
       "152950"
      ]
     },
     "execution_count": 4,
     "metadata": {},
     "output_type": "execute_result"
    }
   ],
   "source": [
    "category = categories[0]\n",
    "files = glob.glob(f\"../datasets/objectron_96x96/{split}/{category}/*.jpg\")\n",
    "len(files)"
   ]
  },
  {
   "cell_type": "code",
   "execution_count": 5,
   "metadata": {},
   "outputs": [],
   "source": [
    "import os \n",
    "basenames = [os.path.basename(x) for x in files]"
   ]
  },
  {
   "cell_type": "code",
   "execution_count": 6,
   "metadata": {},
   "outputs": [
    {
     "data": {
      "text/plain": [
       "'batch-31_17_30.jpg'"
      ]
     },
     "execution_count": 6,
     "metadata": {},
     "output_type": "execute_result"
    }
   ],
   "source": [
    "basename = basenames[0]\n",
    "basename"
   ]
  },
  {
   "cell_type": "code",
   "execution_count": 7,
   "metadata": {},
   "outputs": [],
   "source": [
    "def get_basenames(category, split=\"train\"):\n",
    "    files = glob.glob(f\"../datasets/objectron_96x96/{split}/{category}/*.jpg\")\n",
    "    basenames = [os.path.basename(x) for x in files]\n",
    "    return basenames\n",
    "\n"
   ]
  },
  {
   "cell_type": "code",
   "execution_count": 8,
   "metadata": {},
   "outputs": [
    {
     "data": {
      "text/plain": [
       "{'batch-31_17': 'batch-31_17_30.jpg'}"
      ]
     },
     "execution_count": 8,
     "metadata": {},
     "output_type": "execute_result"
    }
   ],
   "source": [
    "sequences = {}\n",
    "for basename in basenames:\n",
    "    sequence_id = \"_\".join([basename.split(\"_\")[-3],basename.split(\"_\")[-2]])\n",
    "    sequences[sequence_id] = basename\n",
    "    break\n",
    "sequences"
   ]
  },
  {
   "cell_type": "code",
   "execution_count": 9,
   "metadata": {},
   "outputs": [],
   "source": [
    "def get_sequences(category, split=\"train\"):\n",
    "    basenames = get_basenames(category)\n",
    "    sequences = {}\n",
    "    for basename in basenames:\n",
    "        sequence_id = \"_\".join([basename.split(\"_\")[-3],basename.split(\"_\")[-2]])\n",
    "        if sequence_id in sequences:\n",
    "            sequences[sequence_id].append(basename)\n",
    "        else:\n",
    "            sequences[sequence_id] = [basename]\n",
    "    return sequences"
   ]
  },
  {
   "cell_type": "code",
   "execution_count": 10,
   "metadata": {},
   "outputs": [],
   "source": [
    "shoe_sequences = get_sequences(\"shoe\")\n",
    "#shoe_sequences[\"batch-49_41\"]"
   ]
  },
  {
   "cell_type": "code",
   "execution_count": 11,
   "metadata": {},
   "outputs": [],
   "source": [
    "sequences_by_categories = {}\n",
    "for category in categories:\n",
    "    sequences_by_categories[category] = get_sequences(category)"
   ]
  },
  {
   "cell_type": "code",
   "execution_count": 12,
   "metadata": {},
   "outputs": [
    {
     "data": {
      "text/plain": [
       "'batch-16_9_204.jpg'"
      ]
     },
     "execution_count": 12,
     "metadata": {},
     "output_type": "execute_result"
    }
   ],
   "source": [
    "sequences_by_categories[\"book\"][\"batch-16_9\"][2]"
   ]
  },
  {
   "cell_type": "code",
   "execution_count": 13,
   "metadata": {},
   "outputs": [
    {
     "name": "stdout",
     "output_type": "stream",
     "text": [
      "Category shoe has 3575 sequences, for a total of 152950 pictures\n",
      "Category bike has 477 sequences, for a total of 23569 pictures\n",
      "Category cup has 2202 sequences, for a total of 82384 pictures\n",
      "Category book has 2015 sequences, for a total of 86622 pictures\n",
      "Category cereal_box has 1587 sequences, for a total of 59592 pictures\n",
      "Category chair has 1922 sequences, for a total of 73955 pictures\n",
      "Category bottle has 1904 sequences, for a total of 70885 pictures\n",
      "Category camera has 814 sequences, for a total of 35006 pictures\n",
      "Category laptop has 1471 sequences, for a total of 73095 pictures\n",
      "Total of 658058 samples\n"
     ]
    }
   ],
   "source": [
    "samples = []\n",
    "for category in categories:\n",
    "    number_of_pictures = 0\n",
    "    for sequence in sequences_by_categories[category]:\n",
    "        number_of_pictures+=len(sequences_by_categories[category][sequence])\n",
    "        for basename in sequences_by_categories[category][sequence]:\n",
    "            sample = {\"category\": category, \"sequence\": sequence, \"basename\": basename, \"split\": split}\n",
    "            samples.append(sample)\n",
    "    print(f\"Category {category} has {len(sequences_by_categories[category])} sequences, for a total of {number_of_pictures} pictures\")\n",
    "    \n",
    "print(f\"Total of {len(samples)} samples\")"
   ]
  },
  {
   "cell_type": "code",
   "execution_count": 14,
   "metadata": {},
   "outputs": [
    {
     "data": {
      "text/plain": [
       "399641"
      ]
     },
     "execution_count": 14,
     "metadata": {},
     "output_type": "execute_result"
    }
   ],
   "source": [
    "import random\n",
    "idx = random.randint(0,len(samples))\n",
    "idx"
   ]
  },
  {
   "cell_type": "code",
   "execution_count": 15,
   "metadata": {},
   "outputs": [
    {
     "data": {
      "text/plain": [
       "{'category': 'cereal_box',\n",
       " 'sequence': 'batch-21_2',\n",
       " 'basename': 'batch-21_2_144.jpg',\n",
       " 'split': 'train'}"
      ]
     },
     "execution_count": 15,
     "metadata": {},
     "output_type": "execute_result"
    }
   ],
   "source": [
    "\n",
    "samples[idx]"
   ]
  },
  {
   "cell_type": "code",
   "execution_count": 16,
   "metadata": {},
   "outputs": [
    {
     "data": {
      "text/plain": [
       "'cereal_box'"
      ]
     },
     "execution_count": 16,
     "metadata": {},
     "output_type": "execute_result"
    }
   ],
   "source": [
    "category = samples[idx][\"category\"]\n",
    "category"
   ]
  },
  {
   "cell_type": "code",
   "execution_count": 17,
   "metadata": {},
   "outputs": [
    {
     "data": {
      "text/plain": [
       "'batch-21_2'"
      ]
     },
     "execution_count": 17,
     "metadata": {},
     "output_type": "execute_result"
    }
   ],
   "source": [
    "sequence = samples[idx][\"sequence\"]\n",
    "sequence"
   ]
  },
  {
   "cell_type": "code",
   "execution_count": 18,
   "metadata": {},
   "outputs": [
    {
     "data": {
      "text/plain": [
       "'batch-21_2_72.jpg'"
      ]
     },
     "execution_count": 18,
     "metadata": {},
     "output_type": "execute_result"
    }
   ],
   "source": [
    "\n",
    "random.sample(sequences_by_categories[category][sequence], 1)[0]"
   ]
  },
  {
   "cell_type": "code",
   "execution_count": 19,
   "metadata": {},
   "outputs": [
    {
     "data": {
      "text/plain": [
       "'batch-21_2_144.jpg'"
      ]
     },
     "execution_count": 19,
     "metadata": {},
     "output_type": "execute_result"
    }
   ],
   "source": [
    "basename = samples[idx][\"basename\"]\n",
    "basename"
   ]
  },
  {
   "cell_type": "code",
   "execution_count": 20,
   "metadata": {},
   "outputs": [
    {
     "data": {
      "text/plain": [
       "'../datasets/objectron_96x96/train/cereal_box/batch-21_2_144.jpg'"
      ]
     },
     "execution_count": 20,
     "metadata": {},
     "output_type": "execute_result"
    }
   ],
   "source": [
    "root = \"../datasets/objectron_96x96\"\n",
    "image_path = f\"{root}/{split}/{category}/{basename}\"\n",
    "image_path"
   ]
  },
  {
   "cell_type": "code",
   "execution_count": 21,
   "metadata": {},
   "outputs": [
    {
     "data": {
      "image/png": "[encoded data removed]",
      "text/plain": [
       "<PIL.JpegImagePlugin.JpegImageFile image mode=RGB size=71x96 at 0x7FB250773D30>"
      ]
     },
     "execution_count": 21,
     "metadata": {},
     "output_type": "execute_result"
    }
   ],
   "source": [
    "from PIL import Image\n",
    "Image.open(image_path)"
   ]
  },
  {
   "cell_type": "code",
   "execution_count": 22,
   "metadata": {},
   "outputs": [
    {
     "data": {
      "text/plain": [
       "('../datasets/objectron_96x96/train/cereal_box/batch-21_2_144.jpg',\n",
       " '../datasets/objectron_96x96/train/cereal_box/batch-21_2_126.jpg')"
      ]
     },
     "execution_count": 22,
     "metadata": {},
     "output_type": "execute_result"
    }
   ],
   "source": [
    "def get_pair_of_filenames(sample, root):\n",
    "    split = sample[\"split\"]\n",
    "    sequence = sample[\"sequence\"]\n",
    "    basename = sample[\"basename\"]\n",
    "    image_path1 = f\"{root}/{split}/{category}/{basename}\"\n",
    "    other_basename = random.sample(sequences_by_categories[category][sequence], 1)[0]\n",
    "    image_path2 = f\"{root}/{split}/{category}/{other_basename}\"\n",
    "    return image_path1, image_path2\n",
    "filename1, filename2 = get_pair_of_filenames(samples[idx], root)\n",
    "filename1, filename2"
   ]
  },
  {
   "cell_type": "code",
   "execution_count": 23,
   "metadata": {},
   "outputs": [
    {
     "data": {
      "image/png": "[encoded data removed]",
      "text/plain": [
       "<PIL.JpegImagePlugin.JpegImageFile image mode=RGB size=71x96 at 0x7FB225D162E0>"
      ]
     },
     "execution_count": 23,
     "metadata": {},
     "output_type": "execute_result"
    }
   ],
   "source": [
    "Image.open(filename1)"
   ]
  },
  {
   "cell_type": "code",
   "execution_count": 24,
   "metadata": {},
   "outputs": [
    {
     "data": {
      "image/png": "[encoded data removed]",
      "text/plain": [
       "<PIL.JpegImagePlugin.JpegImageFile image mode=RGB size=75x96 at 0x7FB226271550>"
      ]
     },
     "execution_count": 24,
     "metadata": {},
     "output_type": "execute_result"
    }
   ],
   "source": [
    "Image.open(filename2) "
   ]
  },
  {
   "cell_type": "code",
   "execution_count": 199,
   "metadata": {},
   "outputs": [
    {
     "data": {
      "text/plain": [
       "8"
      ]
     },
     "execution_count": 199,
     "metadata": {},
     "output_type": "execute_result"
    }
   ],
   "source": [
    "categories.index(\"laptop\")"
   ]
  },
  {
   "cell_type": "code",
   "execution_count": 25,
   "metadata": {},
   "outputs": [],
   "source": [
    "def load_samples(sequences_by_categories, split=\"train\", debug=True):\n",
    "    samples = []\n",
    "    for category in self.categories:\n",
    "        number_of_pictures = 0\n",
    "        for sequence in self.sequences_by_categories[category]:\n",
    "            if len(self.sequences_by_categories[category][sequence])>5:\n",
    "                number_of_pictures+=len(self.sequences_by_categories[category][sequence])\n",
    "                for basename in self.sequences_by_categories[category][sequence]:\n",
    "                    sample = {\"category\": category, \"sequence\": sequence, \"basename\": basename, \"split\": split}\n",
    "                    samples.append(sample)\n",
    "            else:\n",
    "                print(f\"Skipping {category}/{sequence} : Not enought samples!\")\n",
    "        print(f\"Category {category} has {len(self.sequences_by_categories[category])} sequences, for a total of {self.number_of_pictures} pictures\")\n",
    "\n",
    "    print(f\"Total of {len(samples)} samples\")\n",
    "    return samples"
   ]
  },
  {
   "cell_type": "code",
   "execution_count": null,
   "metadata": {},
   "outputs": [],
   "source": [
    "load_samples(\"train\")"
   ]
  }
 ],
 "metadata": {
  "kernelspec": {
   "display_name": "Python 3",
   "language": "python",
   "name": "python3"
  },
  "language_info": {
   "codemirror_mode": {
    "name": "ipython",
    "version": 3
   },
   "file_extension": ".py",
   "mimetype": "text/x-python",
   "name": "python",
   "nbconvert_exporter": "python",
   "pygments_lexer": "ipython3",
   "version": "3.8.3"
  }
 },
 "nbformat": 4,
 "nbformat_minor": 2
}
