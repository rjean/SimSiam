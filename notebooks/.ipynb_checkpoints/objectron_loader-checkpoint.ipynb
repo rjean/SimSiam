{
 "cells": [
  {
   "cell_type": "code",
   "execution_count": 1,
   "metadata": {},
   "outputs": [],
   "source": [
    "import glob"
   ]
  },
  {
   "cell_type": "code",
   "execution_count": 2,
   "metadata": {},
   "outputs": [
    {
     "data": {
      "text/plain": [
       "['train', 'test', 'valid']"
      ]
     },
     "execution_count": 2,
     "metadata": {},
     "output_type": "execute_result"
    }
   ],
   "source": [
    "splits = glob.glob(\"../datasets/objectron_96x96/*/\")\n",
    "splits = [x.split(\"/\")[-2] for x in splits]\n",
    "splits"
   ]
  },
  {
   "cell_type": "code",
   "execution_count": 3,
   "metadata": {},
   "outputs": [
    {
     "data": {
      "text/plain": [
       "['shoe',\n",
       " 'bike',\n",
       " 'cup',\n",
       " 'book',\n",
       " 'cereal_box',\n",
       " 'chair',\n",
       " 'bottle',\n",
       " 'camera',\n",
       " 'laptop']"
      ]
     },
     "execution_count": 3,
     "metadata": {},
     "output_type": "execute_result"
    }
   ],
   "source": [
    "split = splits[0]\n",
    "categories = glob.glob(f\"../datasets/objectron_96x96/{split}/*/\")\n",
    "categories = [x.split(\"/\")[-2] for x in categories]\n",
    "categories"
   ]
  },
  {
   "cell_type": "code",
   "execution_count": 4,
   "metadata": {},
   "outputs": [
    {
     "data": {
      "text/plain": [
       "152950"
      ]
     },
     "execution_count": 4,
     "metadata": {},
     "output_type": "execute_result"
    }
   ],
   "source": [
    "category = categories[0]\n",
    "files = glob.glob(f\"../datasets/objectron_96x96/{split}/{category}/*.jpg\")\n",
    "len(files)"
   ]
  },
  {
   "cell_type": "code",
   "execution_count": 5,
   "metadata": {},
   "outputs": [],
   "source": [
    "import os \n",
    "basenames = [os.path.basename(x) for x in files]"
   ]
  },
  {
   "cell_type": "code",
   "execution_count": 6,
   "metadata": {},
   "outputs": [
    {
     "data": {
      "text/plain": [
       "'batch-31_17_30.jpg'"
      ]
     },
     "execution_count": 6,
     "metadata": {},
     "output_type": "execute_result"
    }
   ],
   "source": [
    "basename = basenames[0]\n",
    "basename"
   ]
  },
  {
   "cell_type": "code",
   "execution_count": 7,
   "metadata": {},
   "outputs": [],
   "source": [
    "def get_basenames(category, split=\"train\"):\n",
    "    files = glob.glob(f\"../datasets/objectron_96x96/{split}/{category}/*.jpg\")\n",
    "    basenames = [os.path.basename(x) for x in files]\n",
    "    return basenames\n",
    "\n"
   ]
  },
  {
   "cell_type": "code",
   "execution_count": 8,
   "metadata": {},
   "outputs": [
    {
     "data": {
      "text/plain": [
       "{'batch-31_17': 'batch-31_17_30.jpg'}"
      ]
     },
     "execution_count": 8,
     "metadata": {},
     "output_type": "execute_result"
    }
   ],
   "source": [
    "sequences = {}\n",
    "for basename in basenames:\n",
    "    sequence_id = \"_\".join([basename.split(\"_\")[-3],basename.split(\"_\")[-2]])\n",
    "    sequences[sequence_id] = basename\n",
    "    break\n",
    "sequences"
   ]
  },
  {
   "cell_type": "code",
   "execution_count": 9,
   "metadata": {},
   "outputs": [],
   "source": [
    "def get_sequences(category, split=\"train\"):\n",
    "    basenames = get_basenames(category)\n",
    "    sequences = {}\n",
    "    for basename in basenames:\n",
    "        sequence_id = \"_\".join([basename.split(\"_\")[-3],basename.split(\"_\")[-2]])\n",
    "        if sequence_id in sequences:\n",
    "            sequences[sequence_id].append(basename)\n",
    "        else:\n",
    "            sequences[sequence_id] = [basename]\n",
    "    return sequences"
   ]
  },
  {
   "cell_type": "code",
   "execution_count": 10,
   "metadata": {},
   "outputs": [],
   "source": [
    "shoe_sequences = get_sequences(\"shoe\")\n",
    "#shoe_sequences[\"batch-49_41\"]"
   ]
  },
  {
   "cell_type": "code",
   "execution_count": 11,
   "metadata": {},
   "outputs": [],
   "source": [
    "sequences_by_categories = {}\n",
    "for category in categories:\n",
    "    sequences_by_categories[category] = get_sequences(category)"
   ]
  },
  {
   "cell_type": "code",
   "execution_count": 12,
   "metadata": {},
   "outputs": [
    {
     "data": {
      "text/plain": [
       "'batch-16_9_204.jpg'"
      ]
     },
     "execution_count": 12,
     "metadata": {},
     "output_type": "execute_result"
    }
   ],
   "source": [
    "sequences_by_categories[\"book\"][\"batch-16_9\"][2]"
   ]
  },
  {
   "cell_type": "code",
   "execution_count": 171,
   "metadata": {},
   "outputs": [
    {
     "name": "stdout",
     "output_type": "stream",
     "text": [
      "Category shoe has 3575 sequences, for a total of 152950 pictures\n",
      "Category bike has 477 sequences, for a total of 23569 pictures\n",
      "Category cup has 2202 sequences, for a total of 82384 pictures\n",
      "Category book has 2015 sequences, for a total of 86622 pictures\n",
      "Category cereal_box has 1588 sequences, for a total of 59593 pictures\n",
      "Category chair has 1923 sequences, for a total of 73956 pictures\n",
      "Category bottle has 1906 sequences, for a total of 70897 pictures\n",
      "Category camera has 814 sequences, for a total of 35006 pictures\n",
      "Category laptop has 1471 sequences, for a total of 73095 pictures\n",
      "Total of 658072 samples\n"
     ]
    }
   ],
   "source": [
    "samples = []\n",
    "for category in categories:\n",
    "    number_of_pictures = 0\n",
    "    for sequence in sequences_by_categories[category]:\n",
    "        number_of_pictures+=len(sequences_by_categories[category][sequence])\n",
    "        for basename in sequences_by_categories[category][sequence]:\n",
    "            sample = {\"category\": category, \"sequence\": sequence, \"basename\": basename, \"split\": split}\n",
    "            samples.append(sample)\n",
    "    print(f\"Category {category} has {len(sequences_by_categories[category])} sequences, for a total of {number_of_pictures} pictures\")\n",
    "    \n",
    "print(f\"Total of {len(samples)} samples\")"
   ]
  },
  {
   "cell_type": "code",
   "execution_count": 183,
   "metadata": {},
   "outputs": [
    {
     "data": {
      "text/plain": [
       "621536"
      ]
     },
     "execution_count": 183,
     "metadata": {},
     "output_type": "execute_result"
    }
   ],
   "source": [
    "import random\n",
    "idx = random.randint(0,len(samples))\n",
    "idx"
   ]
  },
  {
   "cell_type": "code",
   "execution_count": 184,
   "metadata": {},
   "outputs": [
    {
     "data": {
      "text/plain": [
       "{'category': 'laptop',\n",
       " 'sequence': 'batch-11_43',\n",
       " 'basename': 'batch-11_43_198.jpg',\n",
       " 'split': 'train'}"
      ]
     },
     "execution_count": 184,
     "metadata": {},
     "output_type": "execute_result"
    }
   ],
   "source": [
    "\n",
    "samples[idx]"
   ]
  },
  {
   "cell_type": "code",
   "execution_count": 185,
   "metadata": {},
   "outputs": [
    {
     "data": {
      "text/plain": [
       "'laptop'"
      ]
     },
     "execution_count": 185,
     "metadata": {},
     "output_type": "execute_result"
    }
   ],
   "source": [
    "category = samples[idx][\"category\"]\n",
    "category"
   ]
  },
  {
   "cell_type": "code",
   "execution_count": 186,
   "metadata": {},
   "outputs": [
    {
     "data": {
      "text/plain": [
       "'batch-11_43'"
      ]
     },
     "execution_count": 186,
     "metadata": {},
     "output_type": "execute_result"
    }
   ],
   "source": [
    "sequence = samples[idx][\"sequence\"]\n",
    "sequence"
   ]
  },
  {
   "cell_type": "code",
   "execution_count": 187,
   "metadata": {},
   "outputs": [
    {
     "data": {
      "text/plain": [
       "'batch-11_43_78.jpg'"
      ]
     },
     "execution_count": 187,
     "metadata": {},
     "output_type": "execute_result"
    }
   ],
   "source": [
    "\n",
    "random.sample(sequences_by_categories[category][sequence], 1)[0]"
   ]
  },
  {
   "cell_type": "code",
   "execution_count": 188,
   "metadata": {},
   "outputs": [
    {
     "data": {
      "text/plain": [
       "'batch-11_43_198.jpg'"
      ]
     },
     "execution_count": 188,
     "metadata": {},
     "output_type": "execute_result"
    }
   ],
   "source": [
    "basename = samples[idx][\"basename\"]\n",
    "basename"
   ]
  },
  {
   "cell_type": "code",
   "execution_count": 189,
   "metadata": {},
   "outputs": [
    {
     "data": {
      "text/plain": [
       "'../datasets/objectron_96x96/train/laptop/batch-11_43_198.jpg'"
      ]
     },
     "execution_count": 189,
     "metadata": {},
     "output_type": "execute_result"
    }
   ],
   "source": [
    "root = \"../datasets/objectron_96x96\"\n",
    "image_path = f\"{root}/{split}/{category}/{basename}\"\n",
    "image_path"
   ]
  },
  {
   "cell_type": "code",
   "execution_count": 190,
   "metadata": {},
   "outputs": [
    {
     "data": {
      "image/png": "[encoded data removed]",
      "text/plain": [
       "<PIL.JpegImagePlugin.JpegImageFile image mode=RGB size=96x85 at 0x7F2B05C25F70>"
      ]
     },
     "execution_count": 190,
     "metadata": {},
     "output_type": "execute_result"
    }
   ],
   "source": [
    "from PIL import Image\n",
    "Image.open(image_path)"
   ]
  },
  {
   "cell_type": "code",
   "execution_count": 194,
   "metadata": {},
   "outputs": [
    {
     "data": {
      "text/plain": [
       "('../datasets/objectron_96x96/train/laptop/batch-11_43_198.jpg',\n",
       " '../datasets/objectron_96x96/train/laptop/batch-11_43_300.jpg')"
      ]
     },
     "execution_count": 194,
     "metadata": {},
     "output_type": "execute_result"
    }
   ],
   "source": [
    "def get_pair_of_filenames(sample, root):\n",
    "    split = sample[\"split\"]\n",
    "    sequence = sample[\"sequence\"]\n",
    "    basename = sample[\"basename\"]\n",
    "    image_path1 = f\"{root}/{split}/{category}/{basename}\"\n",
    "    other_basename = random.sample(sequences_by_categories[category][sequence], 1)[0]\n",
    "    image_path2 = f\"{root}/{split}/{category}/{other_basename}\"\n",
    "    return image_path1, image_path2\n",
    "filename1, filename2 = get_pair_of_filenames(samples[idx], root)\n",
    "filename1, filename2"
   ]
  },
  {
   "cell_type": "code",
   "execution_count": 195,
   "metadata": {},
   "outputs": [
    {
     "data": {
      "image/png": "[encoded data removed]",
      "text/plain": [
       "<PIL.JpegImagePlugin.JpegImageFile image mode=RGB size=96x85 at 0x7F2B08501790>"
      ]
     },
     "execution_count": 195,
     "metadata": {},
     "output_type": "execute_result"
    }
   ],
   "source": [
    "Image.open(filename1)"
   ]
  },
  {
   "cell_type": "code",
   "execution_count": 196,
   "metadata": {},
   "outputs": [
    {
     "data": {
      "image/png": "[encoded data removed]",
      "text/plain": [
       "<PIL.JpegImagePlugin.JpegImageFile image mode=RGB size=95x96 at 0x7F2B08501F70>"
      ]
     },
     "execution_count": 196,
     "metadata": {},
     "output_type": "execute_result"
    }
   ],
   "source": [
    "Image.open(filename2) "
   ]
  },
  {
   "cell_type": "code",
   "execution_count": null,
   "metadata": {},
   "outputs": [],
   "source": []
  }
 ],
 "metadata": {
  "kernelspec": {
   "display_name": "Python 3",
   "language": "python",
   "name": "python3"
  },
  "language_info": {
   "codemirror_mode": {
    "name": "ipython",
    "version": 3
   },
   "file_extension": ".py",
   "mimetype": "text/x-python",
   "name": "python",
   "nbconvert_exporter": "python",
   "pygments_lexer": "ipython3",
   "version": "3.8.3"
  }
 },
 "nbformat": 4,
 "nbformat_minor": 2
}
